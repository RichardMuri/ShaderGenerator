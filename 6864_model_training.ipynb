{
  "nbformat": 4,
  "nbformat_minor": 0,
  "metadata": {
    "colab": {
      "name": "Untitled0.ipynb",
      "provenance": [],
      "collapsed_sections": []
    },
    "kernelspec": {
      "name": "python3",
      "display_name": "Python 3"
    },
    "language_info": {
      "name": "python"
    }
  },
  "cells": [
    {
      "cell_type": "markdown",
      "metadata": {
        "id": "OGKFhwVErhFR"
      },
      "source": [
        "# 6.864 ShaderGenerator Final Project\n",
        "\n",
        "This notebook contains code that trains the model for the ShaderGenerator final project. We first download our Github repo which contains the datasets we use."
      ]
    },
    {
      "cell_type": "code",
      "metadata": {
        "id": "v4kYvhk-qxO6"
      },
      "source": [
        "%%bash\n",
        "!(stat -t /usr/local/lib/*/dist-packages/google/colab > /dev/null 2>&1) && exit \n",
        "rm -rf ShaderGenerator\n",
        "git clone https://github.com/RichardMuri/ShaderGenerator.git"
      ],
      "execution_count": null,
      "outputs": []
    },
    {
      "cell_type": "markdown",
      "metadata": {
        "id": "gZerujqwsa-6"
      },
      "source": [
        "We now define the model."
      ]
    }
  ]
}