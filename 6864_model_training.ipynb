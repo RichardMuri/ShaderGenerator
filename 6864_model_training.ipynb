{
  "nbformat": 4,
  "nbformat_minor": 0,
  "metadata": {
    "colab": {
      "name": "6864_model_training.ipynb",
      "provenance": [],
      "collapsed_sections": []
    },
    "kernelspec": {
      "name": "python3",
      "display_name": "Python 3"
    },
    "language_info": {
      "name": "python"
    }
  },
  "cells": [
    {
      "cell_type": "markdown",
      "metadata": {
        "id": "OGKFhwVErhFR"
      },
      "source": [
        "# 6.864 ShaderGenerator Final Project\n",
        "\n",
        "This notebook contains code that trains the model for the ShaderGenerator final project. We first download our Github repo that contains the datasets we use, install some dependencies, and set up our environment and imports."
      ]
    },
    {
      "cell_type": "code",
      "metadata": {
        "id": "S7x4yYTIy4L-"
      },
      "source": [
        "%%bash\n",
        "!(stat -t /usr/local/lib/*/dist-packages/google/colab > /dev/null 2>&1) && exit\n",
        "rm -rf ShaderGenerator\n",
        "git clone https://github.com/RichardMuri/ShaderGenerator.git"
      ],
      "execution_count": null,
      "outputs": []
    },
    {
      "cell_type": "code",
      "metadata": {
        "id": "v4kYvhk-qxO6"
      },
      "source": [
        "!pip install torch\n",
        "!pip install transformers\n",
        "!pip install sacrebleu"
      ],
      "execution_count": null,
      "outputs": []
    },
    {
      "cell_type": "code",
      "metadata": {
        "id": "fwkh6yNm2CSZ"
      },
      "source": [
        "import sys\n",
        "sys.path.append(\"/content/ShaderGenerator/\")\n",
        "import numpy as np\n",
        "import random\n",
        "import torch\n",
        "from torch import cuda\n",
        "import torch.nn as nn\n",
        "import torch.optim as optim\n",
        "import torch.nn.functional as F\n",
        "from transformers import RobertaTokenizer, RobertaConfig, RobertaModel\n",
        "from tqdm import tqdm\n",
        "\n",
        "seed = 0\n",
        "random.seed(seed)\n",
        "np.random.seed(seed)\n",
        "\n",
        "device = None\n",
        "if cuda.is_available():\n",
        "  device = 'cuda'\n",
        "  torch.cuda.manual_seed_all(seed)\n",
        "else:\n",
        "  print('WARNING: you are running this project on a cpu!')\n",
        "  device = 'cpu'"
      ],
      "execution_count": null,
      "outputs": []
    },
    {
      "cell_type": "markdown",
      "metadata": {
        "id": "LJM6oEiDv922"
      },
      "source": [
        "# Defining the Model\n",
        "\n",
        "We now define the model."
      ]
    },
    {
      "cell_type": "code",
      "metadata": {
        "id": "lUnOd7GAwoi7"
      },
      "source": [
        ""
      ],
      "execution_count": null,
      "outputs": []
    },
    {
      "cell_type": "markdown",
      "metadata": {
        "id": "ufdbe1PI0bxM"
      },
      "source": [
        "# Training the Model\n",
        "\n",
        "We now train the model."
      ]
    },
    {
      "cell_type": "code",
      "metadata": {
        "id": "_hPXgJmlwvHL"
      },
      "source": [
        ""
      ],
      "execution_count": null,
      "outputs": []
    }
  ]
}