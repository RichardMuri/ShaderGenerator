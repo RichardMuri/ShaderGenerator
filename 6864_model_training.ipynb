{
  "nbformat": 4,
  "nbformat_minor": 0,
  "metadata": {
    "colab": {
      "name": "6864_model_training.ipynb",
      "provenance": [],
      "collapsed_sections": []
    },
    "kernelspec": {
      "name": "python3",
      "display_name": "Python 3"
    },
    "language_info": {
      "name": "python"
    }
  },
  "cells": [
    {
      "cell_type": "markdown",
      "metadata": {
        "id": "OGKFhwVErhFR"
      },
      "source": [
        "# 6.864 ShaderGenerator Final Project\n",
        "\n",
        "This notebook contains code that trains the model for the ShaderGenerator final project. We first download our Github repo which contains the datasets we use."
      ]
    },
    {
      "cell_type": "code",
      "metadata": {
        "id": "v4kYvhk-qxO6",
        "outputId": "942014bc-deb6-4724-a820-5288811ec933",
        "colab": {
          "base_uri": "https://localhost:8080/"
        }
      },
      "source": [
        "%%bash\n",
        "!(stat -t /usr/local/lib/*/dist-packages/google/colab > /dev/null 2>&1) && exit \n",
        "rm -rf ShaderGenerator\n",
        "git clone https://github.com/RichardMuri/ShaderGenerator.git"
      ],
      "execution_count": 2,
      "outputs": [
        {
          "output_type": "stream",
          "name": "stderr",
          "text": [
            "Cloning into 'ShaderGenerator'...\n"
          ]
        }
      ]
    },
    {
      "cell_type": "markdown",
      "metadata": {
        "id": "LJM6oEiDv922"
      },
      "source": [
        "# Defining the Model\n",
        "\n",
        "We now define the model."
      ]
    }
  ]
}